{
 "cells": [
  {
   "cell_type": "code",
   "execution_count": 4,
   "metadata": {},
   "outputs": [
    {
     "name": "stderr",
     "output_type": "stream",
     "text": [
      "ERROR: pip's dependency resolver does not currently take into account all the packages that are installed. This behaviour is the source of the following dependency conflicts.\n",
      "type-infer 0.0.15 requires pandas<3,>=2, but you have pandas 1.3.5 which is incompatible.\n",
      "pandas-profiling 3.4.0 requires scipy<1.10,>=1.4.1, but you have scipy 1.10.0 which is incompatible.\n",
      "mindsdb 23.8.3.0 requires mindsdb-sql<0.8.0,>=0.7.0, but you have mindsdb-sql 0.6.7 which is incompatible.\n",
      "mindsdb 23.8.3.0 requires pandas<2.1.0,>=2.0.0, but you have pandas 1.3.5 which is incompatible.\n",
      "mindsdb 23.8.3.0 requires sqlalchemy<3.0.0,>=2.0.0, but you have sqlalchemy 1.4.49 which is incompatible.\n",
      "mindsdb-evaluator 0.0.11 requires pandas<3,>=2, but you have pandas 1.3.5 which is incompatible.\n",
      "lightwood 23.8.1.0 requires pandas<2.1.0,>=2.0.0, but you have pandas 1.3.5 which is incompatible.\n",
      "great-expectations 0.14.12 requires pyparsing<3,>=2.4, but you have pyparsing 2.3.1 which is incompatible.\n",
      "dataprep-ml 0.0.18 requires pandas<3,>=2, but you have pandas 1.3.5 which is incompatible.\n",
      "\n",
      "[notice] A new release of pip available: 22.3 -> 23.2.1\n",
      "[notice] To update, run: python.exe -m pip install --upgrade pip\n"
     ]
    }
   ],
   "source": [
    "# https://docs.mindsdb.com/sdk/python-sdk\n",
    "! pip install --user mindsdb_sdk --quiet"
   ]
  },
  {
   "cell_type": "code",
   "execution_count": 5,
   "metadata": {},
   "outputs": [
    {
     "name": "stderr",
     "output_type": "stream",
     "text": [
      "c:\\Users\\rechenschieber2\\miniconda3\\lib\\site-packages\\numpy\\_distributor_init.py:30: UserWarning: loaded more than 1 DLL from .libs:\n",
      "c:\\Users\\rechenschieber2\\miniconda3\\lib\\site-packages\\numpy\\.libs\\libopenblas.FB5AE2TYXYH2IJRDKGDGQ3XBKLKTF43H.gfortran-win_amd64.dll\n",
      "c:\\Users\\rechenschieber2\\miniconda3\\lib\\site-packages\\numpy\\.libs\\libopenblas.XWYDX2IKJW2NMTWSFYNGFUWKQU3LYTCZ.gfortran-win_amd64.dll\n",
      "  warnings.warn(\"loaded more than 1 DLL from .libs:\"\n"
     ]
    }
   ],
   "source": [
    "import mindsdb_sdk\n",
    "\n",
    "# connects to the default port (47334) on localhost \n",
    "server = mindsdb_sdk.connect()"
   ]
  },
  {
   "cell_type": "code",
   "execution_count": 12,
   "metadata": {},
   "outputs": [
    {
     "data": {
      "text/plain": [
       "[Database(files), Database(web), Database(example_db)]"
      ]
     },
     "execution_count": 12,
     "metadata": {},
     "output_type": "execute_result"
    }
   ],
   "source": [
    "# Use the list_databases() method to list all databases:\n",
    "server.list_databases()"
   ]
  },
  {
   "cell_type": "code",
   "execution_count": 13,
   "metadata": {},
   "outputs": [],
   "source": [
    "# Use the get_database() method to get an existing database:\n",
    "example_db = server.get_database('example_db')"
   ]
  },
  {
   "cell_type": "code",
   "execution_count": 14,
   "metadata": {},
   "outputs": [
    {
     "data": {
      "text/plain": [
       "[Table(airline_passenger_satisfaction),\n",
       " Table(sales_data),\n",
       " Table(regression_mindsdb),\n",
       " Table(users),\n",
       " Table(roadmaps),\n",
       " Table(conversations),\n",
       " Table(demo_data.home_rentals),\n",
       " Table(house_sales),\n",
       " Table(predictions_table),\n",
       " Table(hf_test),\n",
       " Table(amazon_reviews),\n",
       " Table(chats),\n",
       " Table(predictions_blackbox),\n",
       " Table(customer_churn),\n",
       " Table(car_info),\n",
       " Table(financial_headlines),\n",
       " Table(eeg_eye),\n",
       " Table(used_car_price),\n",
       " Table(home_rentals),\n",
       " Table(house_sales),\n",
       " Table(nodes),\n",
       " Table(models_1),\n",
       " Table(cta),\n",
       " Table(iris),\n",
       " Table(car_sales),\n",
       " Table(user_comments),\n",
       " Table(alembic_version),\n",
       " Table(stock_test),\n",
       " Table(regression_output),\n",
       " Table(homesale),\n",
       " Table(newtable),\n",
       " Table(newstable),\n",
       " Table(telco_churn),\n",
       " Table(subjects),\n",
       " Table(regression100),\n",
       " Table(accs),\n",
       " Table(amazon_reviews_with_sentiments),\n",
       " Table(fired),\n",
       " Table(lol),\n",
       " Table(test1),\n",
       " Table(tbl1),\n",
       " Table(utenti),\n",
       " Table(viaggi),\n",
       " Table(tesla_sales),\n",
       " Table(test_results),\n",
       " Table(stocks)]"
      ]
     },
     "execution_count": 14,
     "metadata": {},
     "output_type": "execute_result"
    }
   ],
   "source": [
    "# Use the list_tables() method to list all database tables:\n",
    "example_db.list_tables()"
   ]
  }
 ],
 "metadata": {
  "kernelspec": {
   "display_name": "base",
   "language": "python",
   "name": "python3"
  },
  "language_info": {
   "codemirror_mode": {
    "name": "ipython",
    "version": 3
   },
   "file_extension": ".py",
   "mimetype": "text/x-python",
   "name": "python",
   "nbconvert_exporter": "python",
   "pygments_lexer": "ipython3",
   "version": "3.9.1"
  },
  "orig_nbformat": 4
 },
 "nbformat": 4,
 "nbformat_minor": 2
}
